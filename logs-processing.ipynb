{
 "cells": [
  {
   "cell_type": "markdown",
   "id": "b01a8f90",
   "metadata": {},
   "source": [
    "## Processamento de Logs Nasa  \n",
    "\n",
    "Oficial dataset: https://ita.ee.lbl.gov/html/contrib/NASA-HTTP.html  "
   ]
  },
  {
   "cell_type": "code",
   "execution_count": 119,
   "id": "f061d7b0-59c2-4dac-8982-21a8a9bb3c81",
   "metadata": {},
   "outputs": [
    {
     "name": "stdout",
     "output_type": "stream",
     "text": [
      "22/07/13 21:35:23 WARN SimpleFunctionRegistry: The function http_metod replaced a previously registered function.\n",
      "22/07/13 21:35:23 WARN SimpleFunctionRegistry: The function remove_character replaced a previously registered function.\n"
     ]
    },
    {
     "data": {
      "text/plain": [
       "<function __main__.remove_character(str)>"
      ]
     },
     "execution_count": 119,
     "metadata": {},
     "output_type": "execute_result"
    }
   ],
   "source": [
    "import os\n",
    "from pyspark.sql import SparkSession\n",
    "from pyspark.sql.functions import udf\n",
    "import pandas\n",
    "\n",
    "\n",
    "def cmd(x):\n",
    "    x=os.system(x)\n",
    "    return x\n",
    "        \n",
    "def view(x,y):\n",
    "    x.createOrReplaceTempView(f\"{y}\")\n",
    "    \n",
    "def http_metod(str):\n",
    "    x=str.split(\"/\")[0]\n",
    "    o=x.strip()\n",
    "    c=o.replace('\"','')\n",
    "    return c\n",
    "\n",
    "def remove_character(str):\n",
    "    x=str.replace('\"','')\n",
    "    o=x.strip()\n",
    "    return o\n",
    "\n",
    "spark.udf.register(\"http_metod\", http_metod,StringType())\n",
    "spark.udf.register(\"remove_character\", remove_character,StringType())"
   ]
  },
  {
   "cell_type": "code",
   "execution_count": null,
   "id": "b8ef2888",
   "metadata": {},
   "outputs": [],
   "source": [
    "cmd(\"wget -c ftp://ita.ee.lbl.gov/traces/NASA_access_log_ago95.gz\")"
   ]
  },
  {
   "cell_type": "code",
   "execution_count": 99,
   "id": "ad2ead2e",
   "metadata": {},
   "outputs": [],
   "source": [
    "spark = SparkSession.builder.appName(\"load-logs-nasa\").getOrCreate()"
   ]
  },
  {
   "cell_type": "code",
   "execution_count": 20,
   "id": "18a0c7d2",
   "metadata": {},
   "outputs": [],
   "source": [
    "logs = spark.read.text(os.getcwd()+\"/*.gz\")"
   ]
  },
  {
   "cell_type": "code",
   "execution_count": 49,
   "id": "fe15f4d1",
   "metadata": {},
   "outputs": [],
   "source": [
    "view(logs,\"table_logs\")"
   ]
  },
  {
   "cell_type": "code",
   "execution_count": 51,
   "id": "626d0e3e",
   "metadata": {},
   "outputs": [
    {
     "name": "stdout",
     "output_type": "stream",
     "text": [
      "+--------------------+\n",
      "|               value|\n",
      "+--------------------+\n",
      "|199.72.81.55 - - ...|\n",
      "|unicomp6.unicomp....|\n",
      "|199.120.110.21 - ...|\n",
      "|burger.letters.co...|\n",
      "|199.120.110.21 - ...|\n",
      "|burger.letters.co...|\n",
      "|burger.letters.co...|\n",
      "|205.212.115.106 -...|\n",
      "|d104.aa.net - - [...|\n",
      "|129.94.144.152 - ...|\n",
      "|unicomp6.unicomp....|\n",
      "|unicomp6.unicomp....|\n",
      "|unicomp6.unicomp....|\n",
      "|d104.aa.net - - [...|\n",
      "|d104.aa.net - - [...|\n",
      "|d104.aa.net - - [...|\n",
      "|129.94.144.152 - ...|\n",
      "|199.120.110.21 - ...|\n",
      "|ppptky391.asahi-n...|\n",
      "|net-1-141.eden.co...|\n",
      "+--------------------+\n",
      "only showing top 20 rows\n",
      "\n"
     ]
    }
   ],
   "source": [
    "spark.sql(\"SELECT * FROM table_logs\").show()"
   ]
  },
  {
   "cell_type": "code",
   "execution_count": 60,
   "id": "7f1d690b",
   "metadata": {},
   "outputs": [
    {
     "name": "stdout",
     "output_type": "stream",
     "text": [
      "+--------------------+\n",
      "|              value2|\n",
      "+--------------------+\n",
      "|\"199.72.81.55\" \"0...|\n",
      "|\"unicomp6.unicomp...|\n",
      "|\"199.120.110.21\" ...|\n",
      "|\"burger.letters.c...|\n",
      "|\"199.120.110.21\" ...|\n",
      "|\"burger.letters.c...|\n",
      "|\"burger.letters.c...|\n",
      "|\"205.212.115.106\"...|\n",
      "|\"d104.aa.net\" \"01...|\n",
      "|\"129.94.144.152\" ...|\n",
      "|\"unicomp6.unicomp...|\n",
      "|\"unicomp6.unicomp...|\n",
      "|\"unicomp6.unicomp...|\n",
      "|\"d104.aa.net\" \"01...|\n",
      "|\"d104.aa.net\" \"01...|\n",
      "|\"d104.aa.net\" \"01...|\n",
      "|\"129.94.144.152\" ...|\n",
      "|\"199.120.110.21\" ...|\n",
      "|\"ppptky391.asahi-...|\n",
      "|\"net-1-141.eden.c...|\n",
      "+--------------------+\n",
      "only showing top 20 rows\n",
      "\n"
     ]
    }
   ],
   "source": [
    "transfor_01 = spark.sql(\"\"\"\n",
    "WITH address AS\n",
    "  (SELECT REPLACE(CAST(SPLIT(value, ' - - ') AS STRING), ',', '\"') AS value1\n",
    "   FROM table_logs),\n",
    "     date AS\n",
    "  (SELECT REPLACE(REPLACE(REPLACE(value1, '[', '\"'), ']', '\"'), ' -', '-') AS value2\n",
    "   FROM address)\n",
    "SELECT *\n",
    "FROM date\n",
    "\"\"\")\n",
    "\n",
    "view(transfor_01,\"table_transfor_01\")\n",
    "transfor_01.show()"
   ]
  },
  {
   "cell_type": "code",
   "execution_count": 58,
   "id": "26959cdb",
   "metadata": {},
   "outputs": [],
   "source": [
    "transfor_02 = spark.sql(\"\"\"SELECT * FROM table_transfor_01\"\"\")\n",
    "view(transfor_02,\"table_transfor_02\")"
   ]
  },
  {
   "cell_type": "code",
   "execution_count": 74,
   "id": "7ce5fe1a",
   "metadata": {},
   "outputs": [
    {
     "name": "stderr",
     "output_type": "stream",
     "text": [
      "[Stage 69:>                                                         (0 + 1) / 1]\r"
     ]
    },
    {
     "name": "stdout",
     "output_type": "stream",
     "text": [
      "+--------------+-------------------+--------------------+----------+--------------+\n",
      "|       address|          timestamp|             request|code_error|bytes_returned|\n",
      "+--------------+-------------------+--------------------+----------+--------------+\n",
      "|   ***.novo.dk|1995-07-11 08:17:09|\"GET /ksc.html HT...|       200|          7067|\n",
      "|   ***.novo.dk|1995-07-11 08:17:11|\"GET /images/kscl...|       200|          5866|\n",
      "|   ***.novo.dk|1995-07-11 08:17:31|\"GET /images/MOSA...|       200|           363|\n",
      "|   ***.novo.dk|1995-07-11 08:17:33|\"GET /images/USA-...|       200|           234|\n",
      "|   ***.novo.dk|1995-07-11 08:17:34|\"GET /images/NASA...|       200|           786|\n",
      "|   ***.novo.dk|1995-07-11 08:17:38|\"GET /images/WORL...|       200|           669|\n",
      "|   ***.novo.dk|1995-07-11 08:17:48|\"GET /shuttle/mis...|       200|          8678|\n",
      "|   ***.novo.dk|1995-07-11 08:17:51|\"GET /images/laun...|       200|         11853|\n",
      "|   ***.novo.dk|1995-07-11 08:19:13|\"GET /images/KSC-...|       200|          1204|\n",
      "|   ***.novo.dk|1995-07-11 08:19:17|\"GET /images/NASA...|       200|           786|\n",
      "|   ***.novo.dk|1995-07-11 08:21:05|\"GET /shuttle/mis...|       200|         12118|\n",
      "|   ***.novo.dk|1995-07-11 08:21:19|\"GET /shuttle/mis...|       200|         12118|\n",
      "|   ***.novo.dk|1995-07-11 08:21:27|\"GET /shuttle/mis...|       200|         13393|\n",
      "|   ***.novo.dk|1995-07-11 08:22:03|\"GET /images/laun...|       200|          1713|\n",
      "|   ***.novo.dk|1995-07-11 08:22:08|\"GET /history/apo...|       200|          1173|\n",
      "|   ***.novo.dk|1995-07-11 08:23:01|\"GET /shuttle/res...|       200|          6922|\n",
      "|007.thegap.com|1995-07-06 17:22:35|\"GET /shuttle/cou...|       200|          3998|\n",
      "|007.thegap.com|1995-07-06 17:22:40|\"GET /shuttle/cou...|       200|         40310|\n",
      "|007.thegap.com|1995-07-06 17:22:46|\"GET /images/NASA...|       200|           786|\n",
      "|007.thegap.com|1995-07-06 17:22:47|\"GET /images/KSC-...|       200|          1204|\n",
      "+--------------+-------------------+--------------------+----------+--------------+\n",
      "only showing top 20 rows\n",
      "\n"
     ]
    },
    {
     "name": "stderr",
     "output_type": "stream",
     "text": [
      "\r",
      "                                                                                \r"
     ]
    }
   ],
   "source": [
    "transfor_03 = spark.sql(\"\"\"\n",
    "WITH getReplace AS\n",
    "  (SELECT REPLACE(REPLACE(value2, 'GET ', 'GET_'), ' HTTP', '_HTTP') AS value1\n",
    "   FROM table_transfor_02),\n",
    "     splitText AS\n",
    "  (SELECT SPLIT(value1, ' ')[0] AS address,\n",
    "          SPLIT(value1, ' ')[1] AS TIMESTAMP,\n",
    "          SPLIT(value1, ' ')[2] AS url,\n",
    "          SPLIT(value1, ' ')[3] AS position3,\n",
    "          SPLIT(value1, ' ')[4] AS position4\n",
    "   FROM getReplace),\n",
    "     removeCharacter AS\n",
    "  (SELECT *,\n",
    "          REPLACE(position4, '\"', '') AS POSITION,\n",
    "          REPLACE(position3, '-', '') AS position33,\n",
    "          REPLACE(REPLACE(url, 'GET_', 'GET '), '_HTTP', ' HTTP') AS url2\n",
    "   FROM splitText),\n",
    "     selectColumns AS\n",
    "  (SELECT REPLACE(address, '\"', '') AS address,\n",
    "          REPLACE(TIMESTAMP, '\"', '') AS TIMESTAMP,\n",
    "          url2 AS URL,\n",
    "          CAST(REPLACE(position33, '\"', '') AS Integer) AS code_error,\n",
    "          CAST(POSITION AS Integer) AS bytes_returned\n",
    "   FROM removeCharacter\n",
    "   ORDER BY address),\n",
    "     timestampTransformer01 AS\n",
    "  (SELECT REPLACE(TIMESTAMP, '/Jul/', '-07-') AS timer,\n",
    "          *\n",
    "   FROM selectColumns),\n",
    "     timestampTransformer02 AS\n",
    "  (SELECT address,\n",
    "          concat_ws(' ', SUBSTRING(timer, 1, 10), SUBSTRING(timer, 12, 8)) AS timestamp2,\n",
    "          URL AS request,\n",
    "          code_error,\n",
    "          bytes_returned\n",
    "   FROM timestampTransformer01),\n",
    "     timestampTransformer03 AS\n",
    "  (SELECT address,\n",
    "          to_timestamp(concat_ws(' ', concat_ws('-', SUBSTRING(timestamp2, 7, 4), SUBSTRING(timestamp2, 4, 2), SUBSTRING(timestamp2, 1, 2)), SUBSTRING(timestamp2, 12, 8))) AS TIMESTAMP,\n",
    "          request,\n",
    "          code_error,\n",
    "          bytes_returned\n",
    "   FROM timestampTransformer02)\n",
    "SELECT *\n",
    "FROM timestampTransformer03\n",
    "\"\"\")\n",
    "\n",
    "transfor_03.show()"
   ]
  },
  {
   "cell_type": "code",
   "execution_count": 62,
   "id": "379483ba",
   "metadata": {},
   "outputs": [],
   "source": [
    "view(transfor_03,\"table_transfor_03\")"
   ]
  },
  {
   "cell_type": "code",
   "execution_count": 121,
   "id": "7f8a53d9",
   "metadata": {},
   "outputs": [
    {
     "name": "stderr",
     "output_type": "stream",
     "text": [
      "[Stage 127:>                                                        (0 + 1) / 1]\r"
     ]
    },
    {
     "name": "stdout",
     "output_type": "stream",
     "text": [
      "+--------------+-------------------+--------------------+----------+--------------+------------+\n",
      "|       address|          timestamp|             request|code_error|bytes_returned|http_methods|\n",
      "+--------------+-------------------+--------------------+----------+--------------+------------+\n",
      "|128.159.112.43|1995-07-09 13:51:12|               GET /|         0|           200|         GET|\n",
      "|128.159.146.17|1995-07-26 13:03:41|                POST|         0|           200|        POST|\n",
      "|   145.2.66.76|1995-07-04 05:57:42|               GET /|         0|           200|         GET|\n",
      "| 152.148.10.34|1995-07-26 14:40:31|GET /history/apol...|         0|           200|         GET|\n",
      "| 159.233.80.21|1995-07-07 19:15:03|               GET /|         0|           200|         GET|\n",
      "| 159.233.80.21|1995-07-07 19:15:29|               GET /|         0|           200|         GET|\n",
      "|  163.205.1.45|1995-07-03 10:40:07|                POST|         0|           200|        POST|\n",
      "|  163.205.1.45|1995-07-03 10:40:30|                POST|         0|           200|        POST|\n",
      "|  163.205.1.45|1995-07-03 10:42:08|                POST|         0|           200|        POST|\n",
      "|  163.205.1.45|1995-07-03 10:42:26|                POST|         0|           200|        POST|\n",
      "|  163.205.1.45|1995-07-03 10:44:12|                POST|         0|           200|        POST|\n",
      "|  163.205.1.45|1995-07-03 10:45:09|                POST|         0|           200|        POST|\n",
      "|  163.205.1.45|1995-07-03 10:45:32|                POST|         0|           200|        POST|\n",
      "|  163.205.1.45|1995-07-03 10:45:47|                POST|         0|           200|        POST|\n",
      "|  163.205.1.45|1995-07-03 10:46:21|                POST|         0|           200|        POST|\n",
      "|  163.205.1.45|1995-07-03 10:46:28|                POST|         0|           200|        POST|\n",
      "|  163.205.1.45|1995-07-03 10:46:41|                POST|         0|           200|        POST|\n",
      "|  163.205.1.45|1995-07-03 10:46:59|                POST|         0|           200|        POST|\n",
      "|  163.205.1.45|1995-07-03 10:56:57|                POST|         0|           200|        POST|\n",
      "|  163.205.1.45|1995-07-03 10:57:16|                POST|         0|           200|        POST|\n",
      "+--------------+-------------------+--------------------+----------+--------------+------------+\n",
      "only showing top 20 rows\n",
      "\n"
     ]
    },
    {
     "name": "stderr",
     "output_type": "stream",
     "text": [
      "\r",
      "                                                                                \r"
     ]
    }
   ],
   "source": [
    "transfor_04 = spark.sql(\"\"\"\n",
    "WITH methods AS\n",
    "  (SELECT *,\n",
    "          http_metod(request) AS http_method,\n",
    "          remove_character(request) AS requests\n",
    "   FROM table_transfor_03),\n",
    "     fields AS\n",
    "  (SELECT *\n",
    "   FROM methods\n",
    "   WHERE http_method IN (\"GET\",\n",
    "                         \"POST\")\n",
    "     AND bytes_returned=200 )\n",
    "     \n",
    "SELECT cast(address AS string) AS address,\n",
    "       to_timestamp(TIMESTAMP) AS TIMESTAMP,\n",
    "       cast(requests AS string) AS request,\n",
    "       cast(coalesce(code_error, \"0\") AS int) AS code_error,\n",
    "       cast(bytes_returned AS int) AS bytes_returned,\n",
    "       cast(http_method AS string) AS http_methods\n",
    "FROM fields\n",
    "\"\"\")\n",
    "\n",
    "transfor_04.show()"
   ]
  },
  {
   "cell_type": "code",
   "execution_count": null,
   "id": "96f9c0cb",
   "metadata": {},
   "outputs": [],
   "source": []
  }
 ],
 "metadata": {
  "kernelspec": {
   "display_name": "Python 3 (ipykernel)",
   "language": "python",
   "name": "python3"
  },
  "language_info": {
   "codemirror_mode": {
    "name": "ipython",
    "version": 3
   },
   "file_extension": ".py",
   "mimetype": "text/x-python",
   "name": "python",
   "nbconvert_exporter": "python",
   "pygments_lexer": "ipython3",
   "version": "3.10.5"
  }
 },
 "nbformat": 4,
 "nbformat_minor": 5
}
